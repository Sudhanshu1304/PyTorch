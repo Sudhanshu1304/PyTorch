{
  "nbformat": 4,
  "nbformat_minor": 0,
  "metadata": {
    "colab": {
      "name": "PyTorch Linear Regression.ipynb",
      "provenance": [],
      "collapsed_sections": []
    },
    "kernelspec": {
      "name": "python3",
      "display_name": "Python 3"
    },
    "language_info": {
      "name": "python"
    }
  },
  "cells": [
    {
      "cell_type": "markdown",
      "metadata": {
        "id": "4uylcA-eXbzC"
      },
      "source": [
        "# Linear Regression\n"
      ]
    },
    {
      "cell_type": "code",
      "metadata": {
        "id": "NyRoyBKAXZxw"
      },
      "source": [
        "import pandas as pd\n",
        "import numpy as np\n",
        "import matplotlib.pyplot as plt\n",
        "import ModelAuto as ma"
      ],
      "execution_count": 83,
      "outputs": []
    },
    {
      "cell_type": "code",
      "metadata": {
        "id": "6zSucmn8lu6b"
      },
      "source": [
        "#!pip install ModelAuto"
      ],
      "execution_count": 11,
      "outputs": []
    },
    {
      "cell_type": "code",
      "metadata": {
        "id": "udb49b5qXZ_P"
      },
      "source": [
        "data = pd.read_csv('/content/car data.csv')"
      ],
      "execution_count": 12,
      "outputs": []
    },
    {
      "cell_type": "code",
      "metadata": {
        "colab": {
          "base_uri": "https://localhost:8080/",
          "height": 204
        },
        "id": "sxxvuFcMXaFr",
        "outputId": "a34276b7-0502-46e5-bacd-50baecfc4690"
      },
      "source": [
        "data.head()"
      ],
      "execution_count": 13,
      "outputs": [
        {
          "output_type": "execute_result",
          "data": {
            "text/html": [
              "<div>\n",
              "<style scoped>\n",
              "    .dataframe tbody tr th:only-of-type {\n",
              "        vertical-align: middle;\n",
              "    }\n",
              "\n",
              "    .dataframe tbody tr th {\n",
              "        vertical-align: top;\n",
              "    }\n",
              "\n",
              "    .dataframe thead th {\n",
              "        text-align: right;\n",
              "    }\n",
              "</style>\n",
              "<table border=\"1\" class=\"dataframe\">\n",
              "  <thead>\n",
              "    <tr style=\"text-align: right;\">\n",
              "      <th></th>\n",
              "      <th>Car_Name</th>\n",
              "      <th>Year</th>\n",
              "      <th>Selling_Price</th>\n",
              "      <th>Present_Price</th>\n",
              "      <th>Kms_Driven</th>\n",
              "      <th>Fuel_Type</th>\n",
              "      <th>Seller_Type</th>\n",
              "      <th>Transmission</th>\n",
              "      <th>Owner</th>\n",
              "    </tr>\n",
              "  </thead>\n",
              "  <tbody>\n",
              "    <tr>\n",
              "      <th>0</th>\n",
              "      <td>ritz</td>\n",
              "      <td>2014.0</td>\n",
              "      <td>3.35</td>\n",
              "      <td>5.59</td>\n",
              "      <td>27000.0</td>\n",
              "      <td>Petrol</td>\n",
              "      <td>Dealer</td>\n",
              "      <td>Manual</td>\n",
              "      <td>0</td>\n",
              "    </tr>\n",
              "    <tr>\n",
              "      <th>1</th>\n",
              "      <td>sx4</td>\n",
              "      <td>2013.0</td>\n",
              "      <td>4.75</td>\n",
              "      <td>9.54</td>\n",
              "      <td>43000.0</td>\n",
              "      <td>Diesel</td>\n",
              "      <td>Dealer</td>\n",
              "      <td>Manual</td>\n",
              "      <td>0</td>\n",
              "    </tr>\n",
              "    <tr>\n",
              "      <th>2</th>\n",
              "      <td>ciaz</td>\n",
              "      <td>2017.0</td>\n",
              "      <td>7.25</td>\n",
              "      <td>9.85</td>\n",
              "      <td>6900.0</td>\n",
              "      <td>Petrol</td>\n",
              "      <td>Dealer</td>\n",
              "      <td>Manual</td>\n",
              "      <td>0</td>\n",
              "    </tr>\n",
              "    <tr>\n",
              "      <th>3</th>\n",
              "      <td>wagon r</td>\n",
              "      <td>2011.0</td>\n",
              "      <td>2.85</td>\n",
              "      <td>4.15</td>\n",
              "      <td>5200.0</td>\n",
              "      <td>Petrol</td>\n",
              "      <td>Dealer</td>\n",
              "      <td>Manual</td>\n",
              "      <td>0</td>\n",
              "    </tr>\n",
              "    <tr>\n",
              "      <th>4</th>\n",
              "      <td>swift</td>\n",
              "      <td>2014.0</td>\n",
              "      <td>4.60</td>\n",
              "      <td>6.87</td>\n",
              "      <td>42450.0</td>\n",
              "      <td>Diesel</td>\n",
              "      <td>Dealer</td>\n",
              "      <td>Manual</td>\n",
              "      <td>0</td>\n",
              "    </tr>\n",
              "  </tbody>\n",
              "</table>\n",
              "</div>"
            ],
            "text/plain": [
              "  Car_Name    Year  Selling_Price  ...  Seller_Type  Transmission Owner\n",
              "0     ritz  2014.0           3.35  ...       Dealer        Manual     0\n",
              "1      sx4  2013.0           4.75  ...       Dealer        Manual     0\n",
              "2     ciaz  2017.0           7.25  ...       Dealer        Manual     0\n",
              "3  wagon r  2011.0           2.85  ...       Dealer        Manual     0\n",
              "4    swift  2014.0           4.60  ...       Dealer        Manual     0\n",
              "\n",
              "[5 rows x 9 columns]"
            ]
          },
          "metadata": {},
          "execution_count": 13
        }
      ]
    },
    {
      "cell_type": "code",
      "metadata": {
        "id": "sRyiDXQGXaJT"
      },
      "source": [
        "data.drop(['Car_Name'],axis=1,inplace=True)"
      ],
      "execution_count": 14,
      "outputs": []
    },
    {
      "cell_type": "code",
      "metadata": {
        "id": "Bpa_QO3CZtOE"
      },
      "source": [
        "x = data.iloc[:,[0,2,3,4,5,6,7]]\n",
        "y = data.iloc[:,1]"
      ],
      "execution_count": 15,
      "outputs": []
    },
    {
      "cell_type": "code",
      "metadata": {
        "id": "e6n4KNHk1q_-"
      },
      "source": [
        "y = y.fillna(y.mean())"
      ],
      "execution_count": 16,
      "outputs": []
    },
    {
      "cell_type": "code",
      "metadata": {
        "colab": {
          "base_uri": "https://localhost:8080/"
        },
        "id": "gxsmW5h-XaNW",
        "outputId": "96da2ed1-0cc1-4d8d-d563-3287c2132b6f"
      },
      "source": [
        "pre = ma.Datapreprocess.Preprocessing(x)"
      ],
      "execution_count": 17,
      "outputs": [
        {
          "output_type": "stream",
          "name": "stdout",
          "text": [
            "Data Preprocessing...\n",
            "Done!\n"
          ]
        }
      ]
    },
    {
      "cell_type": "code",
      "metadata": {
        "colab": {
          "base_uri": "https://localhost:8080/",
          "height": 419
        },
        "id": "Lg4sRjarXaRS",
        "outputId": "05a9a503-1c56-4966-85c1-97bd876e8a43"
      },
      "source": [
        "pre"
      ],
      "execution_count": 18,
      "outputs": [
        {
          "output_type": "execute_result",
          "data": {
            "text/html": [
              "<div>\n",
              "<style scoped>\n",
              "    .dataframe tbody tr th:only-of-type {\n",
              "        vertical-align: middle;\n",
              "    }\n",
              "\n",
              "    .dataframe tbody tr th {\n",
              "        vertical-align: top;\n",
              "    }\n",
              "\n",
              "    .dataframe thead th {\n",
              "        text-align: right;\n",
              "    }\n",
              "</style>\n",
              "<table border=\"1\" class=\"dataframe\">\n",
              "  <thead>\n",
              "    <tr style=\"text-align: right;\">\n",
              "      <th></th>\n",
              "      <th>Year</th>\n",
              "      <th>Present_Price</th>\n",
              "      <th>Kms_Driven</th>\n",
              "      <th>Owner</th>\n",
              "      <th>Diesel</th>\n",
              "      <th>Petrol</th>\n",
              "      <th>Dealer</th>\n",
              "      <th>Individual</th>\n",
              "      <th>Manual</th>\n",
              "    </tr>\n",
              "  </thead>\n",
              "  <tbody>\n",
              "    <tr>\n",
              "      <th>0</th>\n",
              "      <td>0.733333</td>\n",
              "      <td>0.057109</td>\n",
              "      <td>0.053053</td>\n",
              "      <td>0.0</td>\n",
              "      <td>0</td>\n",
              "      <td>1</td>\n",
              "      <td>1</td>\n",
              "      <td>0</td>\n",
              "      <td>1</td>\n",
              "    </tr>\n",
              "    <tr>\n",
              "      <th>1</th>\n",
              "      <td>0.666667</td>\n",
              "      <td>0.099913</td>\n",
              "      <td>0.085085</td>\n",
              "      <td>0.0</td>\n",
              "      <td>1</td>\n",
              "      <td>0</td>\n",
              "      <td>1</td>\n",
              "      <td>0</td>\n",
              "      <td>1</td>\n",
              "    </tr>\n",
              "    <tr>\n",
              "      <th>2</th>\n",
              "      <td>0.933333</td>\n",
              "      <td>0.103273</td>\n",
              "      <td>0.012813</td>\n",
              "      <td>0.0</td>\n",
              "      <td>0</td>\n",
              "      <td>1</td>\n",
              "      <td>1</td>\n",
              "      <td>0</td>\n",
              "      <td>1</td>\n",
              "    </tr>\n",
              "    <tr>\n",
              "      <th>3</th>\n",
              "      <td>0.533333</td>\n",
              "      <td>0.041504</td>\n",
              "      <td>0.009409</td>\n",
              "      <td>0.0</td>\n",
              "      <td>0</td>\n",
              "      <td>1</td>\n",
              "      <td>1</td>\n",
              "      <td>0</td>\n",
              "      <td>1</td>\n",
              "    </tr>\n",
              "    <tr>\n",
              "      <th>4</th>\n",
              "      <td>0.733333</td>\n",
              "      <td>0.070980</td>\n",
              "      <td>0.083984</td>\n",
              "      <td>0.0</td>\n",
              "      <td>1</td>\n",
              "      <td>0</td>\n",
              "      <td>1</td>\n",
              "      <td>0</td>\n",
              "      <td>1</td>\n",
              "    </tr>\n",
              "    <tr>\n",
              "      <th>...</th>\n",
              "      <td>...</td>\n",
              "      <td>...</td>\n",
              "      <td>...</td>\n",
              "      <td>...</td>\n",
              "      <td>...</td>\n",
              "      <td>...</td>\n",
              "      <td>...</td>\n",
              "      <td>...</td>\n",
              "      <td>...</td>\n",
              "    </tr>\n",
              "    <tr>\n",
              "      <th>296</th>\n",
              "      <td>0.866667</td>\n",
              "      <td>0.122237</td>\n",
              "      <td>0.067043</td>\n",
              "      <td>0.0</td>\n",
              "      <td>1</td>\n",
              "      <td>0</td>\n",
              "      <td>1</td>\n",
              "      <td>0</td>\n",
              "      <td>1</td>\n",
              "    </tr>\n",
              "    <tr>\n",
              "      <th>297</th>\n",
              "      <td>0.800000</td>\n",
              "      <td>0.060468</td>\n",
              "      <td>0.119119</td>\n",
              "      <td>0.0</td>\n",
              "      <td>0</td>\n",
              "      <td>1</td>\n",
              "      <td>1</td>\n",
              "      <td>0</td>\n",
              "      <td>1</td>\n",
              "    </tr>\n",
              "    <tr>\n",
              "      <th>298</th>\n",
              "      <td>0.400000</td>\n",
              "      <td>0.115735</td>\n",
              "      <td>0.175043</td>\n",
              "      <td>0.0</td>\n",
              "      <td>0</td>\n",
              "      <td>1</td>\n",
              "      <td>1</td>\n",
              "      <td>0</td>\n",
              "      <td>1</td>\n",
              "    </tr>\n",
              "    <tr>\n",
              "      <th>299</th>\n",
              "      <td>0.933333</td>\n",
              "      <td>0.131990</td>\n",
              "      <td>0.017017</td>\n",
              "      <td>0.0</td>\n",
              "      <td>1</td>\n",
              "      <td>0</td>\n",
              "      <td>1</td>\n",
              "      <td>0</td>\n",
              "      <td>1</td>\n",
              "    </tr>\n",
              "    <tr>\n",
              "      <th>300</th>\n",
              "      <td>0.866667</td>\n",
              "      <td>0.060468</td>\n",
              "      <td>0.009938</td>\n",
              "      <td>0.0</td>\n",
              "      <td>0</td>\n",
              "      <td>1</td>\n",
              "      <td>1</td>\n",
              "      <td>0</td>\n",
              "      <td>1</td>\n",
              "    </tr>\n",
              "  </tbody>\n",
              "</table>\n",
              "<p>301 rows × 9 columns</p>\n",
              "</div>"
            ],
            "text/plain": [
              "         Year  Present_Price  Kms_Driven  ...  Dealer  Individual  Manual\n",
              "0    0.733333       0.057109    0.053053  ...       1           0       1\n",
              "1    0.666667       0.099913    0.085085  ...       1           0       1\n",
              "2    0.933333       0.103273    0.012813  ...       1           0       1\n",
              "3    0.533333       0.041504    0.009409  ...       1           0       1\n",
              "4    0.733333       0.070980    0.083984  ...       1           0       1\n",
              "..        ...            ...         ...  ...     ...         ...     ...\n",
              "296  0.866667       0.122237    0.067043  ...       1           0       1\n",
              "297  0.800000       0.060468    0.119119  ...       1           0       1\n",
              "298  0.400000       0.115735    0.175043  ...       1           0       1\n",
              "299  0.933333       0.131990    0.017017  ...       1           0       1\n",
              "300  0.866667       0.060468    0.009938  ...       1           0       1\n",
              "\n",
              "[301 rows x 9 columns]"
            ]
          },
          "metadata": {},
          "execution_count": 18
        }
      ]
    },
    {
      "cell_type": "code",
      "metadata": {
        "colab": {
          "base_uri": "https://localhost:8080/",
          "height": 406
        },
        "id": "lQHzM8TUXaV1",
        "outputId": "9ee3a797-c6cc-4ca3-ba0c-ab282670c677"
      },
      "source": [
        "selected = ma.FeatureSelection.backwardElimination(pre,y)"
      ],
      "execution_count": 19,
      "outputs": [
        {
          "output_type": "stream",
          "name": "stdout",
          "text": [
            "Feature Analysing...\n",
            ". . . . . . . . . "
          ]
        },
        {
          "output_type": "stream",
          "name": "stderr",
          "text": [
            "/usr/local/lib/python3.7/dist-packages/statsmodels/tools/_testing.py:19: FutureWarning: pandas.util.testing is deprecated. Use the functions in the public API at pandas.testing instead.\n",
            "  import pandas.util.testing as tm\n"
          ]
        },
        {
          "output_type": "display_data",
          "data": {
            "image/png": "[encoded data removed]",
            "text/plain": [
              "<Figure size 1008x360 with 2 Axes>"
            ]
          },
          "metadata": {}
        }
      ]
    },
    {
      "cell_type": "code",
      "metadata": {
        "colab": {
          "base_uri": "https://localhost:8080/"
        },
        "id": "lo6bHAgGXaaC",
        "outputId": "a88516f1-f819-449d-fb70-c653864228e5"
      },
      "source": [
        "selected.shape"
      ],
      "execution_count": 20,
      "outputs": [
        {
          "output_type": "execute_result",
          "data": {
            "text/plain": [
              "(301, 7)"
            ]
          },
          "metadata": {},
          "execution_count": 20
        }
      ]
    },
    {
      "cell_type": "markdown",
      "metadata": {
        "id": "30j0bOKKaWfk"
      },
      "source": [
        "Building Model From Scratch"
      ]
    },
    {
      "cell_type": "code",
      "metadata": {
        "id": "G14EmJjJawvQ"
      },
      "source": [
        "import torch as th"
      ],
      "execution_count": 21,
      "outputs": []
    },
    {
      "cell_type": "code",
      "metadata": {
        "id": "0wn9zhmBqMmo"
      },
      "source": [
        "def loss(pred,target):\n",
        "  '''\n",
        "    loss = Sum( (pred - target)^2 )/ len( train dataset )\n",
        "  '''\n",
        "  diff = pred - target\n",
        "\n",
        "  sum = th.sum(diff*diff)\n",
        " \n",
        "  return sum/diff.numel()\n",
        "\n",
        "def model(x):\n",
        "  return x @ weights.t() +intercept\n"
      ],
      "execution_count": 22,
      "outputs": []
    },
    {
      "cell_type": "code",
      "metadata": {
        "id": "5m7qwpFSaJqC"
      },
      "source": [
        "inputs = th.from_numpy(selected.values).float()\n",
        "target = th.from_numpy(y.values).float()"
      ],
      "execution_count": 47,
      "outputs": []
    },
    {
      "cell_type": "code",
      "metadata": {
        "colab": {
          "base_uri": "https://localhost:8080/"
        },
        "id": "0Wee3qC_f-Xf",
        "outputId": "f98b5273-43c3-4e61-b2a8-ef7059d8dea7"
      },
      "source": [
        "inputs.dtype"
      ],
      "execution_count": 48,
      "outputs": [
        {
          "output_type": "execute_result",
          "data": {
            "text/plain": [
              "torch.float32"
            ]
          },
          "metadata": {},
          "execution_count": 48
        }
      ]
    },
    {
      "cell_type": "code",
      "metadata": {
        "id": "9AN3S0ckabH8"
      },
      "source": [
        "weights = th.randn(inputs.shape[1],requires_grad=True).float()\n",
        "intercept = th.randn(1,requires_grad=True).float()"
      ],
      "execution_count": 49,
      "outputs": []
    },
    {
      "cell_type": "code",
      "metadata": {
        "id": "3qNC_Yq2abPD"
      },
      "source": [
        "pred = model(inputs)"
      ],
      "execution_count": 50,
      "outputs": []
    },
    {
      "cell_type": "code",
      "metadata": {
        "id": "rEpRB_C2abV7"
      },
      "source": [
        "Loss = loss(pred,target)"
      ],
      "execution_count": 51,
      "outputs": []
    },
    {
      "cell_type": "code",
      "metadata": {
        "colab": {
          "base_uri": "https://localhost:8080/"
        },
        "id": "VlkVaIgUOGeQ",
        "outputId": "2682aeb8-5e1d-4f4b-aa5a-a8f6d0dc7633"
      },
      "source": [
        "Loss"
      ],
      "execution_count": 52,
      "outputs": [
        {
          "output_type": "execute_result",
          "data": {
            "text/plain": [
              "tensor(40.7645, grad_fn=<DivBackward0>)"
            ]
          },
          "metadata": {},
          "execution_count": 52
        }
      ]
    },
    {
      "cell_type": "code",
      "metadata": {
        "id": "IyTabhOK1HCt"
      },
      "source": [
        ""
      ],
      "execution_count": 64,
      "outputs": []
    },
    {
      "cell_type": "code",
      "metadata": {
        "id": "5sEqDJ7xNVRw"
      },
      "source": [
        "lr_rate = 0.001"
      ],
      "execution_count": 54,
      "outputs": []
    },
    {
      "cell_type": "code",
      "metadata": {
        "colab": {
          "base_uri": "https://localhost:8080/"
        },
        "id": "z2dE70ZgF_P8",
        "outputId": "4eccd56b-da77-4606-f1df-f03fa3f11c86"
      },
      "source": [
        "weights.grad"
      ],
      "execution_count": 55,
      "outputs": [
        {
          "output_type": "execute_result",
          "data": {
            "text/plain": [
              "tensor([-6.0202, -1.4381, -0.5826, -0.0466, -3.9049, -0.4001, -5.3726])"
            ]
          },
          "metadata": {},
          "execution_count": 55
        }
      ]
    },
    {
      "cell_type": "code",
      "metadata": {
        "id": "JZPOZEbjL9OK"
      },
      "source": [
        "Loss.backward()\n",
        "with th.no_grad(): # This is to tell pytorch we should not change the gradients while we are updating the weights nd biases\n",
        "  weights.sub_(lr_rate*weights.grad)\n",
        "  intercept.sub_(lr_rate*intercept.grad)\n",
        "  # weights = th.tensor(weights - lr_rate*weights.grad,requires_grad=True)\n",
        "  # intercept = th.tensor(intercept - lr_rate*intercept.grad,requires_grad=True)\n",
        "  weights.grad.zero_()\n",
        "  intercept.grad.zero_()"
      ],
      "execution_count": 73,
      "outputs": []
    },
    {
      "cell_type": "code",
      "metadata": {
        "id": "d_rsIPWbM4e1",
        "colab": {
          "base_uri": "https://localhost:8080/"
        },
        "outputId": "179267de-97ba-468d-f09a-9f5b126eb909"
      },
      "source": [
        "pred = model(inputs)\n",
        "Loss = loss(pred,target)\n",
        "#Loss.backward()\n",
        "Loss"
      ],
      "execution_count": 74,
      "outputs": [
        {
          "output_type": "execute_result",
          "data": {
            "text/plain": [
              "tensor(39.9210, grad_fn=<DivBackward0>)"
            ]
          },
          "metadata": {},
          "execution_count": 74
        }
      ]
    },
    {
      "cell_type": "code",
      "metadata": {
        "id": "5J0ojfxiOD1T",
        "colab": {
          "base_uri": "https://localhost:8080/"
        },
        "outputId": "a1e25a47-5df4-4367-c195-d54ccea16cbc"
      },
      "source": [
        "65.5139,"
      ],
      "execution_count": null,
      "outputs": [
        {
          "output_type": "stream",
          "name": "stdout",
          "text": [
            "None\n",
            "tensor([0.1571], requires_grad=True)\n"
          ]
        }
      ]
    },
    {
      "cell_type": "code",
      "metadata": {
        "colab": {
          "base_uri": "https://localhost:8080/"
        },
        "id": "Y843fCpBOLrS",
        "outputId": "afc1d4c3-3c29-4046-c858-5cfafc62b155"
      },
      "source": [
        "th.tensor(weights,requires_grad=True)"
      ],
      "execution_count": null,
      "outputs": [
        {
          "output_type": "stream",
          "name": "stderr",
          "text": [
            "/usr/local/lib/python3.7/dist-packages/ipykernel_launcher.py:1: UserWarning: To copy construct from a tensor, it is recommended to use sourceTensor.clone().detach() or sourceTensor.clone().detach().requires_grad_(True), rather than torch.tensor(sourceTensor).\n",
            "  \"\"\"Entry point for launching an IPython kernel.\n"
          ]
        },
        {
          "output_type": "execute_result",
          "data": {
            "text/plain": [
              "tensor([ 0.5316, -0.7920,  0.8473,  0.9470, -0.1390,  0.7641,  0.4665],\n",
              "       requires_grad=True)"
            ]
          },
          "metadata": {},
          "execution_count": 82
        }
      ]
    },
    {
      "cell_type": "code",
      "metadata": {
        "colab": {
          "base_uri": "https://localhost:8080/"
        },
        "id": "iQ-TI0XsOMTj",
        "outputId": "7a7464e8-fb70-4de1-cda1-a3f8dcb7b974"
      },
      "source": [
        ""
      ],
      "execution_count": null,
      "outputs": [
        {
          "output_type": "execute_result",
          "data": {
            "text/plain": [
              "tensor([ 0.5316, -0.7920,  0.8473,  0.9470, -0.1390,  0.7641,  0.4665])"
            ]
          },
          "metadata": {},
          "execution_count": 71
        }
      ]
    },
    {
      "cell_type": "code",
      "metadata": {
        "id": "_3Px_32oOV3N",
        "colab": {
          "base_uri": "https://localhost:8080/"
        },
        "outputId": "93fa530c-3f49-47df-ef2d-c5864b37090a"
      },
      "source": [
        "target.shape"
      ],
      "execution_count": 90,
      "outputs": [
        {
          "output_type": "execute_result",
          "data": {
            "text/plain": [
              "torch.Size([301])"
            ]
          },
          "metadata": {},
          "execution_count": 90
        }
      ]
    },
    {
      "cell_type": "code",
      "metadata": {
        "id": "Xo899f9wEiIs"
      },
      "source": [
        "# Clubbing All of them Together"
      ],
      "execution_count": 75,
      "outputs": []
    },
    {
      "cell_type": "code",
      "metadata": {
        "id": "CMA6W4x6Eio8"
      },
      "source": [
        "class LinearRegression:\n",
        "\n",
        "  def __init__(self,input,target):\n",
        "    self.input = th.from_numpy(np.array(input)).float()\n",
        "    self.target = th.from_numpy(np.array(target)).float()\n",
        "    self.weights = th.rand(self.input.shape[1],requires_grad=True).float()\n",
        "    self.intercept = th.rand(1,requires_grad=True).float()\n",
        "    self.costs = []\n",
        "\n",
        " \n",
        "\n",
        "  def loss(self,pred,target):\n",
        "    diff = pred - target\n",
        "    sum = th.sum(diff*diff)\n",
        "    return sum/diff.numel()\n",
        "\n",
        "  def model(self,epochs,lr_rate=0.001):\n",
        "\n",
        "    for i in range(epochs):\n",
        "      # Getting the equation based on calculated Weight nd intercept\n",
        "      pred = self.input @ self.weights.t() + self.intercept\n",
        "      # Getting the loss \n",
        "      Loss = loss(pred,self.target)\n",
        "      self.costs.append(Loss)\n",
        "      # Applying Gradient Decent and Updating Weights nd Intercept\n",
        "      Loss.backward()\n",
        "      with th.no_grad():\n",
        "        self.weights.sub_(lr_rate*self.weights.grad)\n",
        "        self.intercept.sub_(lr_rate*self.intercept.grad)\n",
        "        # Assigning Gradinets back to zero\n",
        "        self.weights.grad.zero_()\n",
        "        self.intercept.grad.zero_()\n",
        "    \n",
        "    pred = self.input @ self.weights.t() + self.intercept\n",
        "    accuacy = self.accuracy(self.target,pred)\n",
        "    print('Accuracy : ',accuacy.detach().numpy()*100,\"%\")\n",
        "    return (pred,self.target)\n",
        "\n",
        "  def accuracy(self,target,pred):\n",
        "    return 1 - (th.sum(th.square(target - pred))/(th.sum(th.square(target-th.mean(target)))))\n",
        "\n",
        " \n",
        "\n",
        "  def cost_graph(self):\n",
        "    x = np.linspace(0,len(self.costs),len(self.costs))\n",
        "    #print('okk :',type(x),type(self.costs))\n",
        "    plt.scatter(np.array(x),np.array(self.costs))\n",
        "    #print('okk :',type(x),type(self.costs))\n",
        "    plt.show()\n",
        "\n",
        "      \n",
        "\n"
      ],
      "execution_count": 190,
      "outputs": []
    },
    {
      "cell_type": "code",
      "metadata": {
        "id": "cYI95vQhEita"
      },
      "source": [
        "lr = LinearRegression(selected,target)"
      ],
      "execution_count": 191,
      "outputs": []
    },
    {
      "cell_type": "code",
      "metadata": {
        "id": "9EwBzI4FEiwi",
        "colab": {
          "base_uri": "https://localhost:8080/"
        },
        "outputId": "4a31b28e-d8b6-45f1-a99d-8a4097d989b4"
      },
      "source": [
        "p,t=lr.model(epochs=10000)"
      ],
      "execution_count": 192,
      "outputs": [
        {
          "output_type": "stream",
          "name": "stdout",
          "text": [
            "Accuracy :  64.47733044624329 %\n"
          ]
        }
      ]
    },
    {
      "cell_type": "code",
      "metadata": {
        "colab": {
          "base_uri": "https://localhost:8080/",
          "height": 268
        },
        "id": "Z6NEzVIZctz8",
        "outputId": "886e4e68-1cbd-4e5d-b8bf-28db8df7cbfb"
      },
      "source": [
        "lr.cost_graph()"
      ],
      "execution_count": 181,
      "outputs": [
        {
          "output_type": "display_data",
          "data": {
            "image/png": "[encoded data removed]",
            "text/plain": [
              "<Figure size 432x288 with 1 Axes>"
            ]
          },
          "metadata": {}
        }
      ]
    },
    {
      "cell_type": "code",
      "metadata": {
        "id": "ztb73C3dfscT"
      },
      "source": [
        ""
      ],
      "execution_count": null,
      "outputs": []
    }
  ]
}