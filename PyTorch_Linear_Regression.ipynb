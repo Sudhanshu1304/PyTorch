{
  "nbformat": 4,
  "nbformat_minor": 0,
  "metadata": {
    "colab": {
      "name": "PyTorch Linear Regression.ipynb",
      "provenance": [],
      "collapsed_sections": []
    },
    "kernelspec": {
      "name": "python3",
      "display_name": "Python 3"
    },
    "language_info": {
      "name": "python"
    }
  },
  "cells": [
    {
      "cell_type": "markdown",
      "metadata": {
        "id": "4uylcA-eXbzC"
      },
      "source": [
        "# Linear Regression\n"
      ]
    },
    {
      "cell_type": "code",
      "metadata": {
        "id": "NyRoyBKAXZxw"
      },
      "source": [
        "import pandas as pd\n",
        "import numpy as np\n",
        "import matplotlib.pyplot as plt\n",
        "import ModelAuto as ma"
      ],
      "execution_count": 2,
      "outputs": []
    },
    {
      "cell_type": "code",
      "metadata": {
        "id": "6zSucmn8lu6b",
        "colab": {
          "base_uri": "https://localhost:8080/"
        },
        "outputId": "6ec81adb-d75c-4fec-f5ea-648ae3c8eab5"
      },
      "source": [
        "#!pip install ModelAuto"
      ],
      "execution_count": 1,
      "outputs": [
        {
          "output_type": "stream",
          "name": "stdout",
          "text": [
            "Collecting ModelAuto\n",
            "  Downloading ModelAuto-0.6.1-py3-none-any.whl (11 kB)\n",
            "Requirement already satisfied: matplotlib in /usr/local/lib/python3.7/dist-packages (from ModelAuto) (3.2.2)\n",
            "Requirement already satisfied: numpy in /usr/local/lib/python3.7/dist-packages (from ModelAuto) (1.19.5)\n",
            "Requirement already satisfied: seaborn in /usr/local/lib/python3.7/dist-packages (from ModelAuto) (0.11.2)\n",
            "Requirement already satisfied: pandas in /usr/local/lib/python3.7/dist-packages (from ModelAuto) (1.1.5)\n",
            "Requirement already satisfied: sklearn in /usr/local/lib/python3.7/dist-packages (from ModelAuto) (0.0)\n",
            "Requirement already satisfied: statsmodels in /usr/local/lib/python3.7/dist-packages (from ModelAuto) (0.10.2)\n",
            "Requirement already satisfied: pyparsing!=2.0.4,!=2.1.2,!=2.1.6,>=2.0.1 in /usr/local/lib/python3.7/dist-packages (from matplotlib->ModelAuto) (2.4.7)\n",
            "Requirement already satisfied: python-dateutil>=2.1 in /usr/local/lib/python3.7/dist-packages (from matplotlib->ModelAuto) (2.8.2)\n",
            "Requirement already satisfied: kiwisolver>=1.0.1 in /usr/local/lib/python3.7/dist-packages (from matplotlib->ModelAuto) (1.3.2)\n",
            "Requirement already satisfied: cycler>=0.10 in /usr/local/lib/python3.7/dist-packages (from matplotlib->ModelAuto) (0.10.0)\n",
            "Requirement already satisfied: six in /usr/local/lib/python3.7/dist-packages (from cycler>=0.10->matplotlib->ModelAuto) (1.15.0)\n",
            "Requirement already satisfied: pytz>=2017.2 in /usr/local/lib/python3.7/dist-packages (from pandas->ModelAuto) (2018.9)\n",
            "Requirement already satisfied: scipy>=1.0 in /usr/local/lib/python3.7/dist-packages (from seaborn->ModelAuto) (1.4.1)\n",
            "Requirement already satisfied: scikit-learn in /usr/local/lib/python3.7/dist-packages (from sklearn->ModelAuto) (0.22.2.post1)\n",
            "Requirement already satisfied: joblib>=0.11 in /usr/local/lib/python3.7/dist-packages (from scikit-learn->sklearn->ModelAuto) (1.0.1)\n",
            "Requirement already satisfied: patsy>=0.4.0 in /usr/local/lib/python3.7/dist-packages (from statsmodels->ModelAuto) (0.5.2)\n",
            "Installing collected packages: ModelAuto\n",
            "Successfully installed ModelAuto-0.6.1\n"
          ]
        }
      ]
    },
    {
      "cell_type": "code",
      "metadata": {
        "id": "udb49b5qXZ_P"
      },
      "source": [
        "data = pd.read_csv('/content/car data.csv')"
      ],
      "execution_count": 6,
      "outputs": []
    },
    {
      "cell_type": "code",
      "metadata": {
        "colab": {
          "base_uri": "https://localhost:8080/",
          "height": 204
        },
        "id": "sxxvuFcMXaFr",
        "outputId": "3f1b43d9-ed04-44ba-f758-2f2e83e4584f"
      },
      "source": [
        "data.head()"
      ],
      "execution_count": 7,
      "outputs": [
        {
          "output_type": "execute_result",
          "data": {
            "text/html": [
              "<div>\n",
              "<style scoped>\n",
              "    .dataframe tbody tr th:only-of-type {\n",
              "        vertical-align: middle;\n",
              "    }\n",
              "\n",
              "    .dataframe tbody tr th {\n",
              "        vertical-align: top;\n",
              "    }\n",
              "\n",
              "    .dataframe thead th {\n",
              "        text-align: right;\n",
              "    }\n",
              "</style>\n",
              "<table border=\"1\" class=\"dataframe\">\n",
              "  <thead>\n",
              "    <tr style=\"text-align: right;\">\n",
              "      <th></th>\n",
              "      <th>Car_Name</th>\n",
              "      <th>Year</th>\n",
              "      <th>Selling_Price</th>\n",
              "      <th>Present_Price</th>\n",
              "      <th>Kms_Driven</th>\n",
              "      <th>Fuel_Type</th>\n",
              "      <th>Seller_Type</th>\n",
              "      <th>Transmission</th>\n",
              "      <th>Owner</th>\n",
              "    </tr>\n",
              "  </thead>\n",
              "  <tbody>\n",
              "    <tr>\n",
              "      <th>0</th>\n",
              "      <td>ritz</td>\n",
              "      <td>2014.0</td>\n",
              "      <td>3.35</td>\n",
              "      <td>5.59</td>\n",
              "      <td>27000.0</td>\n",
              "      <td>Petrol</td>\n",
              "      <td>Dealer</td>\n",
              "      <td>Manual</td>\n",
              "      <td>0</td>\n",
              "    </tr>\n",
              "    <tr>\n",
              "      <th>1</th>\n",
              "      <td>sx4</td>\n",
              "      <td>2013.0</td>\n",
              "      <td>4.75</td>\n",
              "      <td>9.54</td>\n",
              "      <td>43000.0</td>\n",
              "      <td>Diesel</td>\n",
              "      <td>Dealer</td>\n",
              "      <td>Manual</td>\n",
              "      <td>0</td>\n",
              "    </tr>\n",
              "    <tr>\n",
              "      <th>2</th>\n",
              "      <td>ciaz</td>\n",
              "      <td>2017.0</td>\n",
              "      <td>7.25</td>\n",
              "      <td>9.85</td>\n",
              "      <td>6900.0</td>\n",
              "      <td>Petrol</td>\n",
              "      <td>Dealer</td>\n",
              "      <td>Manual</td>\n",
              "      <td>0</td>\n",
              "    </tr>\n",
              "    <tr>\n",
              "      <th>3</th>\n",
              "      <td>wagon r</td>\n",
              "      <td>2011.0</td>\n",
              "      <td>2.85</td>\n",
              "      <td>4.15</td>\n",
              "      <td>5200.0</td>\n",
              "      <td>Petrol</td>\n",
              "      <td>Dealer</td>\n",
              "      <td>Manual</td>\n",
              "      <td>0</td>\n",
              "    </tr>\n",
              "    <tr>\n",
              "      <th>4</th>\n",
              "      <td>swift</td>\n",
              "      <td>2014.0</td>\n",
              "      <td>4.60</td>\n",
              "      <td>6.87</td>\n",
              "      <td>42450.0</td>\n",
              "      <td>Diesel</td>\n",
              "      <td>Dealer</td>\n",
              "      <td>Manual</td>\n",
              "      <td>0</td>\n",
              "    </tr>\n",
              "  </tbody>\n",
              "</table>\n",
              "</div>"
            ],
            "text/plain": [
              "  Car_Name    Year  Selling_Price  ...  Seller_Type  Transmission Owner\n",
              "0     ritz  2014.0           3.35  ...       Dealer        Manual     0\n",
              "1      sx4  2013.0           4.75  ...       Dealer        Manual     0\n",
              "2     ciaz  2017.0           7.25  ...       Dealer        Manual     0\n",
              "3  wagon r  2011.0           2.85  ...       Dealer        Manual     0\n",
              "4    swift  2014.0           4.60  ...       Dealer        Manual     0\n",
              "\n",
              "[5 rows x 9 columns]"
            ]
          },
          "metadata": {},
          "execution_count": 7
        }
      ]
    },
    {
      "cell_type": "code",
      "metadata": {
        "id": "sRyiDXQGXaJT"
      },
      "source": [
        "data.drop(['Car_Name'],axis=1,inplace=True)"
      ],
      "execution_count": 8,
      "outputs": []
    },
    {
      "cell_type": "code",
      "metadata": {
        "id": "Bpa_QO3CZtOE"
      },
      "source": [
        "x = data.iloc[:,[0,2,3,4,5,6,7]]\n",
        "y = data.iloc[:,1]"
      ],
      "execution_count": 9,
      "outputs": []
    },
    {
      "cell_type": "code",
      "metadata": {
        "id": "e6n4KNHk1q_-"
      },
      "source": [
        "y = y.fillna(y.mean())"
      ],
      "execution_count": 10,
      "outputs": []
    },
    {
      "cell_type": "code",
      "metadata": {
        "colab": {
          "base_uri": "https://localhost:8080/"
        },
        "id": "gxsmW5h-XaNW",
        "outputId": "0fe2e067-c540-4212-d51d-09decc869bc9"
      },
      "source": [
        "pre = ma.Datapreprocess.Preprocessing(x)"
      ],
      "execution_count": 11,
      "outputs": [
        {
          "output_type": "stream",
          "name": "stdout",
          "text": [
            "Data Preprocessing...\n",
            "Done!\n"
          ]
        }
      ]
    },
    {
      "cell_type": "code",
      "metadata": {
        "colab": {
          "base_uri": "https://localhost:8080/",
          "height": 419
        },
        "id": "Lg4sRjarXaRS",
        "outputId": "198bc142-aa34-4666-94bd-4bb9ad38f1b4"
      },
      "source": [
        "pre"
      ],
      "execution_count": 12,
      "outputs": [
        {
          "output_type": "execute_result",
          "data": {
            "text/html": [
              "<div>\n",
              "<style scoped>\n",
              "    .dataframe tbody tr th:only-of-type {\n",
              "        vertical-align: middle;\n",
              "    }\n",
              "\n",
              "    .dataframe tbody tr th {\n",
              "        vertical-align: top;\n",
              "    }\n",
              "\n",
              "    .dataframe thead th {\n",
              "        text-align: right;\n",
              "    }\n",
              "</style>\n",
              "<table border=\"1\" class=\"dataframe\">\n",
              "  <thead>\n",
              "    <tr style=\"text-align: right;\">\n",
              "      <th></th>\n",
              "      <th>Year</th>\n",
              "      <th>Present_Price</th>\n",
              "      <th>Kms_Driven</th>\n",
              "      <th>Owner</th>\n",
              "      <th>Diesel</th>\n",
              "      <th>Petrol</th>\n",
              "      <th>Dealer</th>\n",
              "      <th>Individual</th>\n",
              "      <th>Manual</th>\n",
              "    </tr>\n",
              "  </thead>\n",
              "  <tbody>\n",
              "    <tr>\n",
              "      <th>0</th>\n",
              "      <td>0.733333</td>\n",
              "      <td>0.057109</td>\n",
              "      <td>0.053053</td>\n",
              "      <td>0.0</td>\n",
              "      <td>0</td>\n",
              "      <td>1</td>\n",
              "      <td>1</td>\n",
              "      <td>0</td>\n",
              "      <td>1</td>\n",
              "    </tr>\n",
              "    <tr>\n",
              "      <th>1</th>\n",
              "      <td>0.666667</td>\n",
              "      <td>0.099913</td>\n",
              "      <td>0.085085</td>\n",
              "      <td>0.0</td>\n",
              "      <td>1</td>\n",
              "      <td>0</td>\n",
              "      <td>1</td>\n",
              "      <td>0</td>\n",
              "      <td>1</td>\n",
              "    </tr>\n",
              "    <tr>\n",
              "      <th>2</th>\n",
              "      <td>0.933333</td>\n",
              "      <td>0.103273</td>\n",
              "      <td>0.012813</td>\n",
              "      <td>0.0</td>\n",
              "      <td>0</td>\n",
              "      <td>1</td>\n",
              "      <td>1</td>\n",
              "      <td>0</td>\n",
              "      <td>1</td>\n",
              "    </tr>\n",
              "    <tr>\n",
              "      <th>3</th>\n",
              "      <td>0.533333</td>\n",
              "      <td>0.041504</td>\n",
              "      <td>0.009409</td>\n",
              "      <td>0.0</td>\n",
              "      <td>0</td>\n",
              "      <td>1</td>\n",
              "      <td>1</td>\n",
              "      <td>0</td>\n",
              "      <td>1</td>\n",
              "    </tr>\n",
              "    <tr>\n",
              "      <th>4</th>\n",
              "      <td>0.733333</td>\n",
              "      <td>0.070980</td>\n",
              "      <td>0.083984</td>\n",
              "      <td>0.0</td>\n",
              "      <td>1</td>\n",
              "      <td>0</td>\n",
              "      <td>1</td>\n",
              "      <td>0</td>\n",
              "      <td>1</td>\n",
              "    </tr>\n",
              "    <tr>\n",
              "      <th>...</th>\n",
              "      <td>...</td>\n",
              "      <td>...</td>\n",
              "      <td>...</td>\n",
              "      <td>...</td>\n",
              "      <td>...</td>\n",
              "      <td>...</td>\n",
              "      <td>...</td>\n",
              "      <td>...</td>\n",
              "      <td>...</td>\n",
              "    </tr>\n",
              "    <tr>\n",
              "      <th>296</th>\n",
              "      <td>0.866667</td>\n",
              "      <td>0.122237</td>\n",
              "      <td>0.067043</td>\n",
              "      <td>0.0</td>\n",
              "      <td>1</td>\n",
              "      <td>0</td>\n",
              "      <td>1</td>\n",
              "      <td>0</td>\n",
              "      <td>1</td>\n",
              "    </tr>\n",
              "    <tr>\n",
              "      <th>297</th>\n",
              "      <td>0.800000</td>\n",
              "      <td>0.060468</td>\n",
              "      <td>0.119119</td>\n",
              "      <td>0.0</td>\n",
              "      <td>0</td>\n",
              "      <td>1</td>\n",
              "      <td>1</td>\n",
              "      <td>0</td>\n",
              "      <td>1</td>\n",
              "    </tr>\n",
              "    <tr>\n",
              "      <th>298</th>\n",
              "      <td>0.400000</td>\n",
              "      <td>0.115735</td>\n",
              "      <td>0.175043</td>\n",
              "      <td>0.0</td>\n",
              "      <td>0</td>\n",
              "      <td>1</td>\n",
              "      <td>1</td>\n",
              "      <td>0</td>\n",
              "      <td>1</td>\n",
              "    </tr>\n",
              "    <tr>\n",
              "      <th>299</th>\n",
              "      <td>0.933333</td>\n",
              "      <td>0.131990</td>\n",
              "      <td>0.017017</td>\n",
              "      <td>0.0</td>\n",
              "      <td>1</td>\n",
              "      <td>0</td>\n",
              "      <td>1</td>\n",
              "      <td>0</td>\n",
              "      <td>1</td>\n",
              "    </tr>\n",
              "    <tr>\n",
              "      <th>300</th>\n",
              "      <td>0.866667</td>\n",
              "      <td>0.060468</td>\n",
              "      <td>0.009938</td>\n",
              "      <td>0.0</td>\n",
              "      <td>0</td>\n",
              "      <td>1</td>\n",
              "      <td>1</td>\n",
              "      <td>0</td>\n",
              "      <td>1</td>\n",
              "    </tr>\n",
              "  </tbody>\n",
              "</table>\n",
              "<p>301 rows × 9 columns</p>\n",
              "</div>"
            ],
            "text/plain": [
              "         Year  Present_Price  Kms_Driven  ...  Dealer  Individual  Manual\n",
              "0    0.733333       0.057109    0.053053  ...       1           0       1\n",
              "1    0.666667       0.099913    0.085085  ...       1           0       1\n",
              "2    0.933333       0.103273    0.012813  ...       1           0       1\n",
              "3    0.533333       0.041504    0.009409  ...       1           0       1\n",
              "4    0.733333       0.070980    0.083984  ...       1           0       1\n",
              "..        ...            ...         ...  ...     ...         ...     ...\n",
              "296  0.866667       0.122237    0.067043  ...       1           0       1\n",
              "297  0.800000       0.060468    0.119119  ...       1           0       1\n",
              "298  0.400000       0.115735    0.175043  ...       1           0       1\n",
              "299  0.933333       0.131990    0.017017  ...       1           0       1\n",
              "300  0.866667       0.060468    0.009938  ...       1           0       1\n",
              "\n",
              "[301 rows x 9 columns]"
            ]
          },
          "metadata": {},
          "execution_count": 12
        }
      ]
    },
    {
      "cell_type": "code",
      "metadata": {
        "colab": {
          "base_uri": "https://localhost:8080/",
          "height": 406
        },
        "id": "lQHzM8TUXaV1",
        "outputId": "d81acf20-28d0-4c9f-cf42-e14c8010b029"
      },
      "source": [
        "selected = ma.FeatureSelection.backwardElimination(pre,y)"
      ],
      "execution_count": 13,
      "outputs": [
        {
          "output_type": "stream",
          "name": "stdout",
          "text": [
            "Feature Analysing...\n",
            ". . . . . . . . . "
          ]
        },
        {
          "output_type": "stream",
          "name": "stderr",
          "text": [
            "/usr/local/lib/python3.7/dist-packages/statsmodels/tools/_testing.py:19: FutureWarning: pandas.util.testing is deprecated. Use the functions in the public API at pandas.testing instead.\n",
            "  import pandas.util.testing as tm\n"
          ]
        },
        {
          "output_type": "display_data",
          "data": {
            "image/png": "[encoded data removed]",
            "text/plain": [
              "<Figure size 1008x360 with 2 Axes>"
            ]
          },
          "metadata": {}
        }
      ]
    },
    {
      "cell_type": "code",
      "metadata": {
        "colab": {
          "base_uri": "https://localhost:8080/"
        },
        "id": "lo6bHAgGXaaC",
        "outputId": "1f9e1057-2908-4638-c856-cc2e4e8e670a"
      },
      "source": [
        "selected.shape"
      ],
      "execution_count": 14,
      "outputs": [
        {
          "output_type": "execute_result",
          "data": {
            "text/plain": [
              "(301, 7)"
            ]
          },
          "metadata": {},
          "execution_count": 14
        }
      ]
    },
    {
      "cell_type": "markdown",
      "metadata": {
        "id": "30j0bOKKaWfk"
      },
      "source": [
        "Building Model From Scratch"
      ]
    },
    {
      "cell_type": "code",
      "metadata": {
        "id": "G14EmJjJawvQ"
      },
      "source": [
        "import torch as th"
      ],
      "execution_count": 15,
      "outputs": []
    },
    {
      "cell_type": "code",
      "metadata": {
        "id": "0wn9zhmBqMmo"
      },
      "source": [
        "def loss(pred,target):\n",
        "  '''\n",
        "    loss = Sum( (pred - target)^2 )/ len( train dataset )\n",
        "  '''\n",
        "  diff = pred - target\n",
        "\n",
        "  sum = th.sum(diff*diff)\n",
        " \n",
        "  return sum/diff.numel()\n",
        "\n",
        "def model(x):\n",
        "  return x @ weights.t() +intercept\n"
      ],
      "execution_count": 16,
      "outputs": []
    },
    {
      "cell_type": "code",
      "metadata": {
        "id": "5m7qwpFSaJqC"
      },
      "source": [
        "inputs = th.from_numpy(selected.values).float()\n",
        "target = th.from_numpy(y.values).float()"
      ],
      "execution_count": 17,
      "outputs": []
    },
    {
      "cell_type": "code",
      "metadata": {
        "colab": {
          "base_uri": "https://localhost:8080/"
        },
        "id": "0Wee3qC_f-Xf",
        "outputId": "f29f0177-7ca3-45f2-bdc0-9a6e772dd842"
      },
      "source": [
        "inputs.dtype"
      ],
      "execution_count": null,
      "outputs": [
        {
          "output_type": "execute_result",
          "data": {
            "text/plain": [
              "torch.float32"
            ]
          },
          "metadata": {},
          "execution_count": 24
        }
      ]
    },
    {
      "cell_type": "code",
      "metadata": {
        "id": "9AN3S0ckabH8"
      },
      "source": [
        "weights = th.randn(inputs.shape[1],requires_grad=True).float()\n",
        "intercept = th.randn(1,requires_grad=True).float()"
      ],
      "execution_count": null,
      "outputs": []
    },
    {
      "cell_type": "code",
      "metadata": {
        "id": "3qNC_Yq2abPD"
      },
      "source": [
        "pred = model(inputs)"
      ],
      "execution_count": null,
      "outputs": []
    },
    {
      "cell_type": "code",
      "metadata": {
        "id": "rEpRB_C2abV7"
      },
      "source": [
        "Loss = loss(pred,target)"
      ],
      "execution_count": null,
      "outputs": []
    },
    {
      "cell_type": "code",
      "metadata": {
        "colab": {
          "base_uri": "https://localhost:8080/"
        },
        "id": "VlkVaIgUOGeQ",
        "outputId": "aa99b74c-2b01-4c17-997d-8e828156ebc5"
      },
      "source": [
        "Loss"
      ],
      "execution_count": null,
      "outputs": [
        {
          "output_type": "execute_result",
          "data": {
            "text/plain": [
              "tensor(57.1898, grad_fn=<DivBackward0>)"
            ]
          },
          "metadata": {},
          "execution_count": 28
        }
      ]
    },
    {
      "cell_type": "code",
      "metadata": {
        "id": "IyTabhOK1HCt"
      },
      "source": [
        ""
      ],
      "execution_count": null,
      "outputs": []
    },
    {
      "cell_type": "code",
      "metadata": {
        "id": "5sEqDJ7xNVRw"
      },
      "source": [
        "lr_rate = 0.001"
      ],
      "execution_count": null,
      "outputs": []
    },
    {
      "cell_type": "code",
      "metadata": {
        "id": "z2dE70ZgF_P8"
      },
      "source": [
        "weights.grad"
      ],
      "execution_count": null,
      "outputs": []
    },
    {
      "cell_type": "code",
      "metadata": {
        "id": "JZPOZEbjL9OK"
      },
      "source": [
        "Loss.backward()\n",
        "with th.no_grad(): # This is to tell pytorch we should not change the gradients while we are updating the weights nd biases\n",
        "  weights.sub_(lr_rate*weights.grad)\n",
        "  intercept.sub_(lr_rate*intercept.grad)\n",
        "  # weights = th.tensor(weights - lr_rate*weights.grad,requires_grad=True)\n",
        "  # intercept = th.tensor(intercept - lr_rate*intercept.grad,requires_grad=True)\n",
        "  weights.grad.zero_()\n",
        "  intercept.grad.zero_()"
      ],
      "execution_count": null,
      "outputs": []
    },
    {
      "cell_type": "code",
      "metadata": {
        "id": "d_rsIPWbM4e1",
        "colab": {
          "base_uri": "https://localhost:8080/"
        },
        "outputId": "9ad0e961-bf9d-444c-fba1-e04136a90f72"
      },
      "source": [
        "pred = model(inputs)\n",
        "Loss = loss(pred,target)\n",
        "#Loss.backward()\n",
        "Loss"
      ],
      "execution_count": null,
      "outputs": [
        {
          "output_type": "execute_result",
          "data": {
            "text/plain": [
              "tensor(56.9606, grad_fn=<DivBackward0>)"
            ]
          },
          "metadata": {},
          "execution_count": 32
        }
      ]
    },
    {
      "cell_type": "code",
      "metadata": {
        "id": "5J0ojfxiOD1T",
        "colab": {
          "base_uri": "https://localhost:8080/"
        },
        "outputId": "b5ee210b-e610-4143-91c6-babad78f2115"
      },
      "source": [
        "65.5139,"
      ],
      "execution_count": null,
      "outputs": [
        {
          "output_type": "execute_result",
          "data": {
            "text/plain": [
              "(65.5139,)"
            ]
          },
          "metadata": {},
          "execution_count": 33
        }
      ]
    },
    {
      "cell_type": "code",
      "metadata": {
        "colab": {
          "base_uri": "https://localhost:8080/"
        },
        "id": "Y843fCpBOLrS",
        "outputId": "20da51f5-3182-44a9-f20d-575946770945"
      },
      "source": [
        "th.tensor(weights,requires_grad=True)"
      ],
      "execution_count": null,
      "outputs": [
        {
          "output_type": "stream",
          "name": "stderr",
          "text": [
            "/usr/local/lib/python3.7/dist-packages/ipykernel_launcher.py:1: UserWarning: To copy construct from a tensor, it is recommended to use sourceTensor.clone().detach() or sourceTensor.clone().detach().requires_grad_(True), rather than torch.tensor(sourceTensor).\n",
            "  \"\"\"Entry point for launching an IPython kernel.\n"
          ]
        },
        {
          "output_type": "execute_result",
          "data": {
            "text/plain": [
              "tensor([ 0.0701, -1.1116,  0.3575,  2.2786,  0.2013,  2.2752, -0.5098],\n",
              "       requires_grad=True)"
            ]
          },
          "metadata": {},
          "execution_count": 34
        }
      ]
    },
    {
      "cell_type": "code",
      "metadata": {
        "id": "iQ-TI0XsOMTj"
      },
      "source": [
        ""
      ],
      "execution_count": null,
      "outputs": []
    },
    {
      "cell_type": "code",
      "metadata": {
        "id": "_3Px_32oOV3N",
        "colab": {
          "base_uri": "https://localhost:8080/"
        },
        "outputId": "8343ee59-6f26-4ad2-f76c-836f661a35e4"
      },
      "source": [
        "target.shape"
      ],
      "execution_count": null,
      "outputs": [
        {
          "output_type": "execute_result",
          "data": {
            "text/plain": [
              "torch.Size([301])"
            ]
          },
          "metadata": {},
          "execution_count": 35
        }
      ]
    },
    {
      "cell_type": "code",
      "metadata": {
        "id": "Xo899f9wEiIs"
      },
      "source": [
        "# Clubbing All of them Together"
      ],
      "execution_count": null,
      "outputs": []
    },
    {
      "cell_type": "code",
      "metadata": {
        "id": "ZO4VTco234JX"
      },
      "source": [
        ""
      ],
      "execution_count": null,
      "outputs": []
    },
    {
      "cell_type": "code",
      "metadata": {
        "id": "CMA6W4x6Eio8"
      },
      "source": [
        "class LinearRegression:\n",
        "\n",
        "  def __init__(self,input,target):\n",
        "    self.input = th.from_numpy(np.array(input)).float()\n",
        "    self.target = th.from_numpy(np.array(target)).float()\n",
        "    self.weights = th.rand(self.input.shape[1],requires_grad=True).float()\n",
        "    self.intercept = th.rand(1,requires_grad=True).float()\n",
        "    self.costs = []\n",
        "\n",
        " \n",
        "\n",
        "  def loss(self,pred,target):\n",
        "    diff = pred - target\n",
        "    sum = th.sum(diff*diff)\n",
        "    return sum/diff.numel()\n",
        "\n",
        "  def model(self,epochs,lr_rate=0.001):\n",
        "\n",
        "    for i in range(epochs):\n",
        "      # Getting the equation based on calculated Weight nd intercept\n",
        "      pred = self.input @ self.weights.t() + self.intercept\n",
        "      # Getting the loss \n",
        "      Loss = loss(pred,self.target)\n",
        "      self.costs.append(Loss)\n",
        "      # Applying Gradient Decent and Updating Weights nd Intercept\n",
        "      Loss.backward()\n",
        "      with th.no_grad():\n",
        "        self.weights.sub_(lr_rate*self.weights.grad)\n",
        "        self.intercept.sub_(lr_rate*self.intercept.grad)\n",
        "        # Assigning Gradinets back to zero\n",
        "        self.weights.grad.zero_()\n",
        "        self.intercept.grad.zero_()\n",
        "\n",
        "    print('losss :',Loss)\n",
        "    pred = self.input @ self.weights.t() + self.intercept\n",
        "    accuacy = self.accuracy(self.target,pred)\n",
        "    print('Accuracy : ',accuacy.detach().numpy()*100,\"%\")\n",
        "    return (pred,self.target)\n",
        "\n",
        "  def accuracy(self,target,pred):\n",
        "    return 1 - (th.sum(th.square(target - pred))/(th.sum(th.square(target-th.mean(target)))))\n",
        "\n",
        " \n",
        "\n",
        "  def cost_graph(self):\n",
        "    fig = plt.figure(figsize=(20,8))\n",
        "    x = np.linspace(0,len(self.costs),len(self.costs))\n",
        "    plt.scatter(np.array(x),np.array(self.costs))\n",
        "    plt.show()\n",
        "\n",
        "      \n",
        "\n"
      ],
      "execution_count": 73,
      "outputs": []
    },
    {
      "cell_type": "code",
      "metadata": {
        "id": "cYI95vQhEita"
      },
      "source": [
        "lr = LinearRegression(selected,target)"
      ],
      "execution_count": 74,
      "outputs": []
    },
    {
      "cell_type": "code",
      "metadata": {
        "id": "9EwBzI4FEiwi",
        "colab": {
          "base_uri": "https://localhost:8080/",
          "height": 519
        },
        "outputId": "9df3fb93-fa95-4080-b29d-a4c4e01c36c4"
      },
      "source": [
        "p,t=lr.model(epochs=30000,lr_rate=0.00001)\n",
        "lr.cost_graph()"
      ],
      "execution_count": 92,
      "outputs": [
        {
          "output_type": "stream",
          "name": "stdout",
          "text": [
            "losss : tensor(3.0366, grad_fn=<DivBackward0>)\n",
            "Accuracy :  88.19620013237 %\n"
          ]
        },
        {
          "output_type": "display_data",
          "data": {
            "image/png": "[encoded data removed]",
            "text/plain": [
              "<Figure size 1440x576 with 1 Axes>"
            ]
          },
          "metadata": {}
        }
      ]
    },
    {
      "cell_type": "code",
      "metadata": {
        "colab": {
          "base_uri": "https://localhost:8080/",
          "height": 268
        },
        "id": "ztb73C3dfscT",
        "outputId": "22d5080d-7acb-4c13-e41f-6b60d1414ecb"
      },
      "source": [
        "lr.cost_graph()"
      ],
      "execution_count": null,
      "outputs": [
        {
          "output_type": "display_data",
          "data": {
            "image/png": "[encoded data removed]",
            "text/plain": [
              "<Figure size 432x288 with 1 Axes>"
            ]
          },
          "metadata": {}
        }
      ]
    },
    {
      "cell_type": "markdown",
      "metadata": {
        "id": "4VwvglRjyhCM"
      },
      "source": [
        "# Building the Linear Regresison using Inbuilt Methods"
      ]
    },
    {
      "cell_type": "code",
      "metadata": {
        "id": "pzTQvPDjhjCY"
      },
      "source": [
        "import torch.nn.functional as F\n",
        "import torch.nn as nn \n",
        "\n",
        "class linearRegressio(nn.Module):\n",
        "\n",
        "  def __init__(self,inputsize,targetsize):\n",
        "    #super().__init__()\n",
        "    self.linmodel = nn.Linear(inputsize,targetsize)\n",
        "    self.costs = []\n",
        "  def forward(self,input):\n",
        "    return self.linmodel(input)\n",
        "\n",
        "  def dataset(self,input,target):\n",
        "    return th.utils.data.TensorDataset(input,target)\n",
        "  \n",
        "  def loss_func(self,pred,target):\n",
        "    return F.mse_loss(pred.reshape((len(pred))),target)\n",
        "  \n",
        "  def accuracy(self,target,pred):\n",
        "    return 1 - (th.sum(th.square(target - pred))/(th.sum(th.square(target-th.mean(target)))))\n",
        "\n",
        "  def cost_graph(self):\n",
        "    x = np.linspace(0,len(self.costs),len(self.costs))\n",
        "    plt.scatter(np.array(x),np.array(self.costs))\n",
        "    plt.show()\n",
        "\n",
        "  def fit(self,input,target,epoch,lr_rate = 0.01,batch_size=10,shuffle=False):\n",
        "    # Loading Dataset\n",
        "    self.costs = []\n",
        "    train_data = self.dataset(input,target)\n",
        "    train_data = th.utils.data.DataLoader(train_data,batch_size,shuffle=shuffle)\n",
        "    # model\n",
        "    opt = th.optim.SGD(self.linmodel.parameters(),lr=lr_rate)\n",
        "    for i in range(epoch):\n",
        "      for inputx,inputy in train_data:\n",
        "        print('Data : ',inputx)\n",
        "        print('D2 : ',inputy)\n",
        "        break\n",
        "        pred = self.forward(inputx)\n",
        "        # loss func\n",
        "        loss =  self.loss_func(pred,inputy)\n",
        "        print('Loss : ',loss)\n",
        "        # adding optamizer\n",
        "        loss.backward()\n",
        "        opt.step()\n",
        "        # resting to zero\n",
        "        opt.zero_grad()\n",
        "      break\n",
        "      self.costs.append(loss)\n",
        "      print('===================\\n')\n",
        "    pred = self.forward(input)\n",
        "    print(\"Accuracy ==> : \",self.accuracy(target,pred))"
      ],
      "execution_count": null,
      "outputs": []
    },
    {
      "cell_type": "code",
      "metadata": {
        "id": "LCHzSJWfTfJp",
        "colab": {
          "base_uri": "https://localhost:8080/",
          "height": 268
        },
        "outputId": "062368b0-de5a-473b-f783-177b16618485"
      },
      "source": [
        "lr.cost_graph()"
      ],
      "execution_count": null,
      "outputs": [
        {
          "output_type": "display_data",
          "data": {
            "image/png": "[encoded data removed]",
            "text/plain": [
              "<Figure size 432x288 with 1 Axes>"
            ]
          },
          "metadata": {}
        }
      ]
    },
    {
      "cell_type": "code",
      "metadata": {
        "id": "A2Bl0MniZERj"
      },
      "source": [
        "lr.accuracy()"
      ],
      "execution_count": null,
      "outputs": []
    },
    {
      "cell_type": "code",
      "metadata": {
        "id": "MJR4uc3-M4n9"
      },
      "source": [
        "import torch.nn as nn\n",
        "from torch.utils.data import DataLoader,TensorDataset\n",
        "import torch.nn.functional as F"
      ],
      "execution_count": 95,
      "outputs": []
    },
    {
      "cell_type": "code",
      "metadata": {
        "id": "HtSqRLcGM4sG"
      },
      "source": [
        ""
      ],
      "execution_count": null,
      "outputs": []
    },
    {
      "cell_type": "code",
      "metadata": {
        "id": "J55Dx4OAM4vv"
      },
      "source": [
        "train = TensorDataset(inputs,target)"
      ],
      "execution_count": null,
      "outputs": []
    },
    {
      "cell_type": "code",
      "metadata": {
        "id": "IRHfga-IRLWU"
      },
      "source": [
        "from sklearn.metrics import r2_score\n",
        "class test(nn.Module):\n",
        "  \n",
        "  def __init__(self,inputsize,targetsize):\n",
        "    super().__init__()\n",
        "    self.model = nn.Linear(inputsize,targetsize)\n",
        "    self.cost = []\n",
        "\n",
        "  def forward(self,input):\n",
        "    return self.model(input)\n",
        "  \n",
        "  def loss_func(self,pred,target):\n",
        "    return F.mse_loss(pred.reshape((len(pred))),target)\n",
        "\n",
        "  def accuracy(self,target,pred):\n",
        "    return r2_score(target.detach().numpy(),pred.detach().numpy()) # 1 - (th.sum(th.square(target - pred))/(th.sum(th.square(target-th.mean(target)))))\n",
        "\n",
        "  def cost_graph(self):\n",
        "    x = np.linspace(0,len(self.cost),len(self.cost))\n",
        "    plt.scatter(np.array(x),np.array(self.cost))\n",
        "    plt.show()\n",
        "\n",
        "  def fit(self,input,target,epoch,lr_rate=0.01):\n",
        "    \n",
        "    train = TensorDataset(input,target)\n",
        "    train = DataLoader(train,batch_size=10)\n",
        "    self.opt = th.optim.SGD(self.model.parameters(),lr_rate)\n",
        "\n",
        "    for i in range(epoch):\n",
        "      for tx,ty in train:\n",
        "          pred = self.forward(input)\n",
        "          loss = self.loss_func(pred,target)\n",
        "          #print('Loss : ',loss)\n",
        "          loss.backward()\n",
        "          self.opt.step()\n",
        "          self.opt.zero_grad()\n",
        "          self.cost.append(loss)\n",
        " \n",
        "    pred = self.forward(input)\n",
        "    #print('Pred : ',pred)\n",
        "    print('acc :',self.accuracy(target,pred))\n",
        "    return pred\n",
        "    "
      ],
      "execution_count": 96,
      "outputs": []
    },
    {
      "cell_type": "code",
      "metadata": {
        "colab": {
          "base_uri": "https://localhost:8080/"
        },
        "id": "OmmYdaOCTXaI",
        "outputId": "7e34b5bc-f86e-4f28-8b2a-007332f878a3"
      },
      "source": [
        "obj = test(inputs.shape[1],1)\n",
        "res = obj.fit(inputs,target,10000)"
      ],
      "execution_count": 99,
      "outputs": [
        {
          "output_type": "stream",
          "name": "stdout",
          "text": [
            "acc : 0.8819619121965491\n"
          ]
        }
      ]
    },
    {
      "cell_type": "code",
      "metadata": {
        "colab": {
          "base_uri": "https://localhost:8080/",
          "height": 269
        },
        "id": "734RgmamFhZa",
        "outputId": "0ec90af9-6bed-4625-f97c-da352798870b"
      },
      "source": [
        "obj.cost_graph()"
      ],
      "execution_count": 100,
      "outputs": [
        {
          "output_type": "display_data",
          "data": {
            "image/png": "[encoded data removed]",
            "text/plain": [
              "<Figure size 432x288 with 1 Axes>"
            ]
          },
          "metadata": {}
        }
      ]
    },
    {
      "cell_type": "code",
      "metadata": {
        "id": "V0LfotY8RVMR"
      },
      "source": [
        ""
      ],
      "execution_count": null,
      "outputs": []
    }
  ]
}