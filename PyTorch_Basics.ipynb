{
  "nbformat": 4,
  "nbformat_minor": 0,
  "metadata": {
    "colab": {
      "name": "PyTorch Basics.ipynb",
      "provenance": []
    },
    "kernelspec": {
      "name": "python3",
      "display_name": "Python 3"
    },
    "language_info": {
      "name": "python"
    }
  },
  "cells": [
    {
      "cell_type": "code",
      "metadata": {
        "id": "BG08D_Zl8Vhq"
      },
      "source": [
        "import numpy as np"
      ],
      "execution_count": 5,
      "outputs": []
    },
    {
      "cell_type": "code",
      "metadata": {
        "id": "lqsCT-tJ73PA"
      },
      "source": [
        "import torch "
      ],
      "execution_count": 1,
      "outputs": []
    },
    {
      "cell_type": "markdown",
      "metadata": {
        "id": "MZ-r0RZv8LI3"
      },
      "source": [
        "Tensors"
      ]
    },
    {
      "cell_type": "code",
      "metadata": {
        "id": "S2JStMzw76iI"
      },
      "source": [
        "t = torch.tensor(4)"
      ],
      "execution_count": 2,
      "outputs": []
    },
    {
      "cell_type": "code",
      "metadata": {
        "colab": {
          "base_uri": "https://localhost:8080/"
        },
        "id": "fD5x6FT38JSQ",
        "outputId": "03692345-e1c3-463e-fafb-c58b0b408dcf"
      },
      "source": [
        "t"
      ],
      "execution_count": 3,
      "outputs": [
        {
          "output_type": "execute_result",
          "data": {
            "text/plain": [
              "tensor(4)"
            ]
          },
          "metadata": {},
          "execution_count": 3
        }
      ]
    },
    {
      "cell_type": "code",
      "metadata": {
        "colab": {
          "base_uri": "https://localhost:8080/"
        },
        "id": "CqN9PoCS8JmA",
        "outputId": "cc590bf1-8aa4-4f04-e59a-4c144eaeff9d"
      },
      "source": [
        "torch.tensor([1,2,3,5,7,7])"
      ],
      "execution_count": 4,
      "outputs": [
        {
          "output_type": "execute_result",
          "data": {
            "text/plain": [
              "tensor([1, 2, 3, 5, 7, 7])"
            ]
          },
          "metadata": {},
          "execution_count": 4
        }
      ]
    },
    {
      "cell_type": "code",
      "metadata": {
        "colab": {
          "base_uri": "https://localhost:8080/"
        },
        "id": "Vie1QiHW8Rdg",
        "outputId": "59cd3de4-9391-46c2-9aed-c529e8dfb313"
      },
      "source": [
        "n = [12,34,6,67,23]\n",
        "n2 = np.array([1,2,3,4,4])\n",
        "torch.tensor(n2)"
      ],
      "execution_count": 6,
      "outputs": [
        {
          "output_type": "execute_result",
          "data": {
            "text/plain": [
              "tensor([1, 2, 3, 4, 4])"
            ]
          },
          "metadata": {},
          "execution_count": 6
        }
      ]
    },
    {
      "cell_type": "markdown",
      "metadata": {
        "id": "5MceW8wv846l"
      },
      "source": [
        "Arithimatic and Gredient"
      ]
    },
    {
      "cell_type": "code",
      "metadata": {
        "id": "9cn-yRq79GNS"
      },
      "source": [
        "import torch as th"
      ],
      "execution_count": 8,
      "outputs": []
    },
    {
      "cell_type": "code",
      "metadata": {
        "id": "xjyU-vhA8b6q"
      },
      "source": [
        "a = th.tensor(2)\n",
        "b = th.tensor(3.,requires_grad=True)\n",
        "c = th.tensor(4.0,requires_grad=True)"
      ],
      "execution_count": 12,
      "outputs": []
    },
    {
      "cell_type": "code",
      "metadata": {
        "id": "A_MnGFGu-ZE_"
      },
      "source": [
        "x = th.tensor(2.0,requires_grad=True)"
      ],
      "execution_count": 35,
      "outputs": []
    },
    {
      "cell_type": "code",
      "metadata": {
        "colab": {
          "base_uri": "https://localhost:8080/"
        },
        "id": "iJ57g7V598cv",
        "outputId": "6c035052-3cbc-4bc8-8cd6-c5eee05a8965"
      },
      "source": [
        "y = th.tensor(4*x**2)"
      ],
      "execution_count": 40,
      "outputs": [
        {
          "output_type": "stream",
          "name": "stderr",
          "text": [
            "/usr/local/lib/python3.7/dist-packages/ipykernel_launcher.py:1: UserWarning: To copy construct from a tensor, it is recommended to use sourceTensor.clone().detach() or sourceTensor.clone().detach().requires_grad_(True), rather than torch.tensor(sourceTensor).\n",
            "  \"\"\"Entry point for launching an IPython kernel.\n"
          ]
        }
      ]
    },
    {
      "cell_type": "code",
      "metadata": {
        "id": "UauYNEpR_FKF"
      },
      "source": [
        "t = torch.full((5,5),17)"
      ],
      "execution_count": 42,
      "outputs": []
    },
    {
      "cell_type": "code",
      "metadata": {
        "colab": {
          "base_uri": "https://localhost:8080/"
        },
        "id": "PqbZOOGuRaNg",
        "outputId": "e5ba56f7-0d9b-4a63-9d85-a119bab6c6cd"
      },
      "source": [
        "t"
      ],
      "execution_count": 43,
      "outputs": [
        {
          "output_type": "execute_result",
          "data": {
            "text/plain": [
              "tensor([[17, 17, 17, 17, 17],\n",
              "        [17, 17, 17, 17, 17],\n",
              "        [17, 17, 17, 17, 17],\n",
              "        [17, 17, 17, 17, 17],\n",
              "        [17, 17, 17, 17, 17]])"
            ]
          },
          "metadata": {},
          "execution_count": 43
        }
      ]
    },
    {
      "cell_type": "code",
      "metadata": {
        "colab": {
          "base_uri": "https://localhost:8080/"
        },
        "id": "VIaBK5FfRaTh",
        "outputId": "2b1436c0-828c-4042-e967-b4ae3162940e"
      },
      "source": [
        "torch.sin(t)"
      ],
      "execution_count": 44,
      "outputs": [
        {
          "output_type": "execute_result",
          "data": {
            "text/plain": [
              "tensor([[-0.9614, -0.9614, -0.9614, -0.9614, -0.9614],\n",
              "        [-0.9614, -0.9614, -0.9614, -0.9614, -0.9614],\n",
              "        [-0.9614, -0.9614, -0.9614, -0.9614, -0.9614],\n",
              "        [-0.9614, -0.9614, -0.9614, -0.9614, -0.9614],\n",
              "        [-0.9614, -0.9614, -0.9614, -0.9614, -0.9614]])"
            ]
          },
          "metadata": {},
          "execution_count": 44
        }
      ]
    },
    {
      "cell_type": "code",
      "metadata": {
        "id": "NAH5g26sRaZK"
      },
      "source": [
        ""
      ],
      "execution_count": null,
      "outputs": []
    },
    {
      "cell_type": "code",
      "metadata": {
        "id": "FZXIHu8ERah5"
      },
      "source": [
        ""
      ],
      "execution_count": null,
      "outputs": []
    }
  ]
}